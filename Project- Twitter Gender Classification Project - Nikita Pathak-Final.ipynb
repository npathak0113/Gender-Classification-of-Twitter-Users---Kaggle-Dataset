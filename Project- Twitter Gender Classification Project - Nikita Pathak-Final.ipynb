{
 "cells": [
  {
   "cell_type": "markdown",
   "metadata": {},
   "source": [
    "# Twitter User Gender Classification"
   ]
  },
  {
   "cell_type": "markdown",
   "metadata": {},
   "source": [
    "With the increase in the use of social media, Twitter has become one of the major tool for studying social networking. Using data collected from the Twitter, researchers can understand the public opinion, monitor advancement of a disease or improve response to natural catastrophe's. \n",
    "\n",
    "Eventhough data collected from Twitter is widely used, there are som personal information about the user like the gender of the user is never provided or collected by Twitter. This implies that Twitter does not require users to reveal much of their personal identity. When a new user creates an account on Twitter, the only required field is the username; gender of the user is never asked. Similarly, when the data is collected from the Twitter, gender of the user is not provided.\n",
    "\n",
    "However, for understanding the social, demographic and psychological studies of the society communities, it is important to have the gender information. By accurately predicting the demographic attributes from social media and informal online content, it gets easier to personalize marketing and advertising content to the target consumers."
   ]
  },
  {
   "cell_type": "markdown",
   "metadata": {},
   "source": [
    "## Goal of the Project: \n",
    "    \n",
    "  __Identify features which can help to determine Twitter user's gender (Male, Female, Brand) with atleast 60% accuracy__\n",
    "\n",
    "I will try to answer following questions:\n",
    "1. How well does tweets and profiles predict users gender?\n",
    "2. How well do stylistic factors (like link_color and sidebar_color) predict user gender?"
   ]
  },
  {
   "cell_type": "markdown",
   "metadata": {},
   "source": [
    "## About the data"
   ]
  },
  {
   "cell_type": "markdown",
   "metadata": {},
   "source": [
    "The dataset was provided by Data for Everyone Library on Crowdflower.\n",
    "\n",
    "This dataset contains 20,000 rows and 26 columns. Each row containing user name, random tweet, account profile image, location along with link and sidebar color.\n",
    "\n",
    "Below are the metadata of each field the dataset contains. Also, out of these 26 columns, I am interested in understanding the relationship of the attributes description, text, link_color and sidebar_color (marked in bold below) in predicting the user's gender.\n",
    "\n",
    "- _unit_id: A unique id for user\n",
    "- _golden: Whether the user was included in the gold standard for the model. It contains True or False values.\n",
    "- _unit_state: Defines the state of the observation. It contains 2 categories - finalized (for contributor-judged) and golden (for gold standard observations)\n",
    "- _trusted_judgements: Number of trusted judgements (int). 3 for non-golden and unique id for gold standard observations.\n",
    "- _last_judgement_at: date and time of the last contributor judgement. It contains blank for gold standard observations.\n",
    "- __gender: It contains 3 categories male, female or brand (for non-human profiles)__\n",
    "- __gender:confidence: This field contains float value that represents confidence in the provided gender.__\n",
    "- profile_yn: It contains two categories - yes and no. 'no' means that the profile was part of the dataset but was not available when contributors went to judge it. This field contains 'yes' for gold standard observations.\n",
    "- profile_yn:confidence: Confidence in the existence/non-existence of the profile\n",
    "- created: date and time when the profile was created.\n",
    "- __description: the user's profile description__\n",
    "- fav_number: number of tweets the user has favorited\n",
    "- gender_gold: if the profile is golden then what is the gender?\n",
    "- __link_color: the link color of the profile as a hex value__\n",
    "- name: the user's name\n",
    "- profile_yn_gold: Whether the profile y/n value is golden\n",
    "- profileimage: a link to the profile image\n",
    "- retweet_count: number of times the user has retweeted (or possibly, been retweeted)\n",
    "- __sidebar_color: color of the profile sidebar, as a hex value__\n",
    "- __text: text of a random one of the user's tweets.__\n",
    "- tweet_coord: if the user has location turned on, the coordinates as a string with the format latitude, longitude\n",
    "- tweet_count: number of tweets that the user has posted\n",
    "- tweet_created: when the random tweet (in the text column) was created\n",
    "- tweet_id: the tweet id of the random tweet\n",
    "- tweet_location: location of the tweet\n",
    "- user_timezone: the timezone of the user."
   ]
  },
  {
   "cell_type": "markdown",
   "metadata": {},
   "source": [
    "## Loading libraries"
   ]
  },
  {
   "cell_type": "code",
   "execution_count": 4,
   "metadata": {},
   "outputs": [],
   "source": [
    "import pandas as pd\n",
    "import numpy as np\n",
    "import re\n",
    "import unicodedata\n",
    "from collections import Counter\n",
    "import matplotlib.pyplot as plt\n",
    "%matplotlib inline\n",
    "\n",
    "\n",
    "from bokeh.plotting import output_notebook, figure, show\n",
    "from bokeh.layouts import gridplot\n",
    "from bokeh.models import ColumnDataSource\n",
    "\n",
    "from sklearn.preprocessing import LabelEncoder\n",
    "from sklearn.feature_extraction.text import CountVectorizer\n",
    "from sklearn.model_selection import train_test_split\n",
    "\n",
    "from sklearn import linear_model, metrics\n",
    "from sklearn import naive_bayes\n",
    "from sklearn.ensemble import RandomForestClassifier\n",
    "from sklearn.neighbors import KNeighborsClassifier\n",
    "from sklearn.svm import SVC\n",
    "\n",
    "from cytoolz import identity\n",
    "from sklearn.dummy import DummyClassifier\n",
    "from sklearn.model_selection import cross_val_score"
   ]
  },
  {
   "cell_type": "markdown",
   "metadata": {},
   "source": [
    "## Data Encoding"
   ]
  },
  {
   "cell_type": "markdown",
   "metadata": {},
   "source": [
    "'latin-1' encoding is used because in the text and description columns contain special characters like (é,Û,Ï, etc) which do not fit in default UTF-8 "
   ]
  },
  {
   "cell_type": "markdown",
   "metadata": {},
   "source": [
    "## Loading Dataset"
   ]
  },
  {
   "cell_type": "markdown",
   "metadata": {},
   "source": [
    "Reading the gender classifier file which was provided on Kaggle into a variable using pandas and encoding the dataframe to latin-1 "
   ]
  },
  {
   "cell_type": "code",
   "execution_count": 170,
   "metadata": {},
   "outputs": [],
   "source": [
    "data = pd.read_csv('D:/Nikita/Ling583/gender-classifier-DFE-791531.csv', encoding = 'latin-1')"
   ]
  },
  {
   "cell_type": "code",
   "execution_count": 171,
   "metadata": {},
   "outputs": [
    {
     "data": {
      "text/html": [
       "<div>\n",
       "<style scoped>\n",
       "    .dataframe tbody tr th:only-of-type {\n",
       "        vertical-align: middle;\n",
       "    }\n",
       "\n",
       "    .dataframe tbody tr th {\n",
       "        vertical-align: top;\n",
       "    }\n",
       "\n",
       "    .dataframe thead th {\n",
       "        text-align: right;\n",
       "    }\n",
       "</style>\n",
       "<table border=\"1\" class=\"dataframe\">\n",
       "  <thead>\n",
       "    <tr style=\"text-align: right;\">\n",
       "      <th></th>\n",
       "      <th>_unit_id</th>\n",
       "      <th>_golden</th>\n",
       "      <th>_unit_state</th>\n",
       "      <th>_trusted_judgments</th>\n",
       "      <th>_last_judgment_at</th>\n",
       "      <th>gender</th>\n",
       "      <th>gender:confidence</th>\n",
       "      <th>profile_yn</th>\n",
       "      <th>profile_yn:confidence</th>\n",
       "      <th>created</th>\n",
       "      <th>...</th>\n",
       "      <th>profileimage</th>\n",
       "      <th>retweet_count</th>\n",
       "      <th>sidebar_color</th>\n",
       "      <th>text</th>\n",
       "      <th>tweet_coord</th>\n",
       "      <th>tweet_count</th>\n",
       "      <th>tweet_created</th>\n",
       "      <th>tweet_id</th>\n",
       "      <th>tweet_location</th>\n",
       "      <th>user_timezone</th>\n",
       "    </tr>\n",
       "  </thead>\n",
       "  <tbody>\n",
       "    <tr>\n",
       "      <th>0</th>\n",
       "      <td>815719226</td>\n",
       "      <td>False</td>\n",
       "      <td>finalized</td>\n",
       "      <td>3</td>\n",
       "      <td>10/26/15 23:24</td>\n",
       "      <td>male</td>\n",
       "      <td>1.0000</td>\n",
       "      <td>yes</td>\n",
       "      <td>1.0</td>\n",
       "      <td>12/5/13 1:48</td>\n",
       "      <td>...</td>\n",
       "      <td>https://pbs.twimg.com/profile_images/414342229096808449/fYvzqXN7_normal.png</td>\n",
       "      <td>0</td>\n",
       "      <td>FFFFFF</td>\n",
       "      <td>Robbie E Responds To Critics After Win Against Eddie Edwards In The #WorldTitleSeries https://t.co/NSybBmVjKZ</td>\n",
       "      <td>NaN</td>\n",
       "      <td>110964</td>\n",
       "      <td>10/26/15 12:40</td>\n",
       "      <td>6.587300e+17</td>\n",
       "      <td>main; @Kan1shk3</td>\n",
       "      <td>Chennai</td>\n",
       "    </tr>\n",
       "    <tr>\n",
       "      <th>1</th>\n",
       "      <td>815719227</td>\n",
       "      <td>False</td>\n",
       "      <td>finalized</td>\n",
       "      <td>3</td>\n",
       "      <td>10/26/15 23:30</td>\n",
       "      <td>male</td>\n",
       "      <td>1.0000</td>\n",
       "      <td>yes</td>\n",
       "      <td>1.0</td>\n",
       "      <td>10/1/12 13:51</td>\n",
       "      <td>...</td>\n",
       "      <td>https://pbs.twimg.com/profile_images/539604221532700673/WW16tBbU_normal.jpeg</td>\n",
       "      <td>0</td>\n",
       "      <td>C0DEED</td>\n",
       "      <td>ÛÏIt felt like they were my friends and I was living the story with themÛ https://t.co/arngE0YHNO #retired #IAN1 https://t.co/CIzCANPQFz</td>\n",
       "      <td>NaN</td>\n",
       "      <td>7471</td>\n",
       "      <td>10/26/15 12:40</td>\n",
       "      <td>6.587300e+17</td>\n",
       "      <td>NaN</td>\n",
       "      <td>Eastern Time (US &amp; Canada)</td>\n",
       "    </tr>\n",
       "    <tr>\n",
       "      <th>2</th>\n",
       "      <td>815719228</td>\n",
       "      <td>False</td>\n",
       "      <td>finalized</td>\n",
       "      <td>3</td>\n",
       "      <td>10/26/15 23:33</td>\n",
       "      <td>male</td>\n",
       "      <td>0.6625</td>\n",
       "      <td>yes</td>\n",
       "      <td>1.0</td>\n",
       "      <td>11/28/14 11:30</td>\n",
       "      <td>...</td>\n",
       "      <td>https://pbs.twimg.com/profile_images/657330418249658368/SBLCXdF7_normal.png</td>\n",
       "      <td>1</td>\n",
       "      <td>C0DEED</td>\n",
       "      <td>i absolutely adore when louis starts the songs it hits me hard but it feels good</td>\n",
       "      <td>NaN</td>\n",
       "      <td>5617</td>\n",
       "      <td>10/26/15 12:40</td>\n",
       "      <td>6.587300e+17</td>\n",
       "      <td>clcncl</td>\n",
       "      <td>Belgrade</td>\n",
       "    </tr>\n",
       "    <tr>\n",
       "      <th>3</th>\n",
       "      <td>815719229</td>\n",
       "      <td>False</td>\n",
       "      <td>finalized</td>\n",
       "      <td>3</td>\n",
       "      <td>10/26/15 23:10</td>\n",
       "      <td>male</td>\n",
       "      <td>1.0000</td>\n",
       "      <td>yes</td>\n",
       "      <td>1.0</td>\n",
       "      <td>6/11/09 22:39</td>\n",
       "      <td>...</td>\n",
       "      <td>https://pbs.twimg.com/profile_images/259703936/IMG_8444_normal.JPG</td>\n",
       "      <td>0</td>\n",
       "      <td>C0DEED</td>\n",
       "      <td>Hi @JordanSpieth - Looking at the url - do you use @IFTTT?!  Don't typically see an advanced user on the @PGATOUR! https://t.co/H68ou5PE9L</td>\n",
       "      <td>NaN</td>\n",
       "      <td>1693</td>\n",
       "      <td>10/26/15 12:40</td>\n",
       "      <td>6.587300e+17</td>\n",
       "      <td>Palo Alto, CA</td>\n",
       "      <td>Pacific Time (US &amp; Canada)</td>\n",
       "    </tr>\n",
       "    <tr>\n",
       "      <th>4</th>\n",
       "      <td>815719230</td>\n",
       "      <td>False</td>\n",
       "      <td>finalized</td>\n",
       "      <td>3</td>\n",
       "      <td>10/27/15 1:15</td>\n",
       "      <td>female</td>\n",
       "      <td>1.0000</td>\n",
       "      <td>yes</td>\n",
       "      <td>1.0</td>\n",
       "      <td>4/16/14 13:23</td>\n",
       "      <td>...</td>\n",
       "      <td>https://pbs.twimg.com/profile_images/564094871032446976/AOfpk-mr_normal.jpeg</td>\n",
       "      <td>0</td>\n",
       "      <td>0</td>\n",
       "      <td>Watching Neighbours on Sky+ catching up with the Neighbs!! Xxx _Ù÷Ä_Ù÷Ä_Ù÷Ä_ÙÔÎ_ÙÈ_ÙÔ_ÙÈ Xxx</td>\n",
       "      <td>NaN</td>\n",
       "      <td>31462</td>\n",
       "      <td>10/26/15 12:40</td>\n",
       "      <td>6.587300e+17</td>\n",
       "      <td>NaN</td>\n",
       "      <td>NaN</td>\n",
       "    </tr>\n",
       "  </tbody>\n",
       "</table>\n",
       "<p>5 rows × 26 columns</p>\n",
       "</div>"
      ],
      "text/plain": [
       "    _unit_id  _golden _unit_state  _trusted_judgments _last_judgment_at  \\\n",
       "0  815719226  False    finalized   3                   10/26/15 23:24     \n",
       "1  815719227  False    finalized   3                   10/26/15 23:30     \n",
       "2  815719228  False    finalized   3                   10/26/15 23:33     \n",
       "3  815719229  False    finalized   3                   10/26/15 23:10     \n",
       "4  815719230  False    finalized   3                   10/27/15 1:15      \n",
       "\n",
       "   gender  gender:confidence profile_yn  profile_yn:confidence  \\\n",
       "0  male    1.0000             yes        1.0                     \n",
       "1  male    1.0000             yes        1.0                     \n",
       "2  male    0.6625             yes        1.0                     \n",
       "3  male    1.0000             yes        1.0                     \n",
       "4  female  1.0000             yes        1.0                     \n",
       "\n",
       "          created             ...              \\\n",
       "0  12/5/13 1:48               ...               \n",
       "1  10/1/12 13:51              ...               \n",
       "2  11/28/14 11:30             ...               \n",
       "3  6/11/09 22:39              ...               \n",
       "4  4/16/14 13:23              ...               \n",
       "\n",
       "                                                                   profileimage  \\\n",
       "0  https://pbs.twimg.com/profile_images/414342229096808449/fYvzqXN7_normal.png    \n",
       "1  https://pbs.twimg.com/profile_images/539604221532700673/WW16tBbU_normal.jpeg   \n",
       "2  https://pbs.twimg.com/profile_images/657330418249658368/SBLCXdF7_normal.png    \n",
       "3  https://pbs.twimg.com/profile_images/259703936/IMG_8444_normal.JPG             \n",
       "4  https://pbs.twimg.com/profile_images/564094871032446976/AOfpk-mr_normal.jpeg   \n",
       "\n",
       "   retweet_count sidebar_color  \\\n",
       "0  0              FFFFFF         \n",
       "1  0              C0DEED         \n",
       "2  1              C0DEED         \n",
       "3  0              C0DEED         \n",
       "4  0              0              \n",
       "\n",
       "                                                                                                                                          text  \\\n",
       "0  Robbie E Responds To Critics After Win Against Eddie Edwards In The #WorldTitleSeries https://t.co/NSybBmVjKZ                                 \n",
       "1  ÛÏIt felt like they were my friends and I was living the story with themÛ https://t.co/arngE0YHNO #retired #IAN1 https://t.co/CIzCANPQFz   \n",
       "2  i absolutely adore when louis starts the songs it hits me hard but it feels good                                                              \n",
       "3  Hi @JordanSpieth - Looking at the url - do you use @IFTTT?!  Don't typically see an advanced user on the @PGATOUR! https://t.co/H68ou5PE9L    \n",
       "4  Watching Neighbours on Sky+ catching up with the Neighbs!! Xxx _Ù÷Ä_Ù÷Ä_Ù÷Ä_ÙÔÎ_ÙÈ_ÙÔ_ÙÈ Xxx                                               \n",
       "\n",
       "  tweet_coord tweet_count   tweet_created      tweet_id   tweet_location  \\\n",
       "0  NaN         110964      10/26/15 12:40  6.587300e+17  main; @Kan1shk3   \n",
       "1  NaN         7471        10/26/15 12:40  6.587300e+17  NaN               \n",
       "2  NaN         5617        10/26/15 12:40  6.587300e+17  clcncl            \n",
       "3  NaN         1693        10/26/15 12:40  6.587300e+17  Palo Alto, CA     \n",
       "4  NaN         31462       10/26/15 12:40  6.587300e+17  NaN               \n",
       "\n",
       "                user_timezone  \n",
       "0  Chennai                     \n",
       "1  Eastern Time (US & Canada)  \n",
       "2  Belgrade                    \n",
       "3  Pacific Time (US & Canada)  \n",
       "4  NaN                         \n",
       "\n",
       "[5 rows x 26 columns]"
      ]
     },
     "execution_count": 171,
     "metadata": {},
     "output_type": "execute_result"
    }
   ],
   "source": [
    "# displaying first 5 rows of the dataframe\n",
    "data.head()"
   ]
  },
  {
   "cell_type": "markdown",
   "metadata": {},
   "source": [
    "## Checking the features for missing values"
   ]
  },
  {
   "cell_type": "code",
   "execution_count": 172,
   "metadata": {},
   "outputs": [
    {
     "name": "stdout",
     "output_type": "stream",
     "text": [
      "<class 'pandas.core.frame.DataFrame'>\n",
      "RangeIndex: 20050 entries, 0 to 20049\n",
      "Data columns (total 26 columns):\n",
      "_unit_id                 20050 non-null int64\n",
      "_golden                  20050 non-null bool\n",
      "_unit_state              20050 non-null object\n",
      "_trusted_judgments       20050 non-null int64\n",
      "_last_judgment_at        20000 non-null object\n",
      "gender                   19953 non-null object\n",
      "gender:confidence        20024 non-null float64\n",
      "profile_yn               20050 non-null object\n",
      "profile_yn:confidence    20050 non-null float64\n",
      "created                  20050 non-null object\n",
      "description              16306 non-null object\n",
      "fav_number               20050 non-null int64\n",
      "gender_gold              50 non-null object\n",
      "link_color               20050 non-null object\n",
      "name                     20050 non-null object\n",
      "profile_yn_gold          50 non-null object\n",
      "profileimage             20050 non-null object\n",
      "retweet_count            20050 non-null int64\n",
      "sidebar_color            20050 non-null object\n",
      "text                     20050 non-null object\n",
      "tweet_coord              159 non-null object\n",
      "tweet_count              20050 non-null int64\n",
      "tweet_created            20050 non-null object\n",
      "tweet_id                 20050 non-null float64\n",
      "tweet_location           12566 non-null object\n",
      "user_timezone            12252 non-null object\n",
      "dtypes: bool(1), float64(3), int64(5), object(17)\n",
      "memory usage: 3.8+ MB\n"
     ]
    }
   ],
   "source": [
    "data.info()"
   ]
  },
  {
   "cell_type": "markdown",
   "metadata": {},
   "source": [
    "As most of the columns are not relevant for predicting the gender of the user, I will focus on the following features:\n",
    "- link_color\n",
    "- sidebar_color\n",
    "- text\n",
    "- description\n",
    "- gender\n",
    "- gender:confidence\n",
    "\n",
    "It can be observed that the description, gender and gender:confidence have some missing values."
   ]
  },
  {
   "cell_type": "code",
   "execution_count": 173,
   "metadata": {},
   "outputs": [
    {
     "data": {
      "text/plain": [
       "1.0000    13926\n",
       "0.0000    71   \n",
       "0.6691    31   \n",
       "0.6709    30   \n",
       "0.6591    30   \n",
       "0.6667    30   \n",
       "0.6619    29   \n",
       "0.6686    27   \n",
       "0.6743    27   \n",
       "0.6769    26   \n",
       "0.6666    25   \n",
       "0.6678    24   \n",
       "0.6715    24   \n",
       "0.6707    24   \n",
       "0.6561    24   \n",
       "0.6752    24   \n",
       "0.6642    24   \n",
       "0.6656    24   \n",
       "0.6609    23   \n",
       "0.6675    23   \n",
       "0.6685    22   \n",
       "0.6766    22   \n",
       "0.6645    22   \n",
       "0.6741    22   \n",
       "0.6711    22   \n",
       "0.6774    22   \n",
       "0.6706    21   \n",
       "0.6659    21   \n",
       "0.6664    21   \n",
       "0.6739    21   \n",
       "          ..   \n",
       "0.3468    1    \n",
       "0.6955    1    \n",
       "0.6323    1    \n",
       "0.3544    1    \n",
       "0.3337    1    \n",
       "0.3283    1    \n",
       "0.3557    1    \n",
       "0.3575    1    \n",
       "0.3622    1    \n",
       "0.3269    1    \n",
       "0.6986    1    \n",
       "0.3343    1    \n",
       "0.3339    1    \n",
       "0.3307    1    \n",
       "0.6931    1    \n",
       "0.3628    1    \n",
       "0.3319    1    \n",
       "0.3378    1    \n",
       "0.8458    1    \n",
       "0.6961    1    \n",
       "0.6059    1    \n",
       "0.3335    1    \n",
       "0.3722    1    \n",
       "0.3613    1    \n",
       "0.3461    1    \n",
       "0.6379    1    \n",
       "0.6322    1    \n",
       "0.6911    1    \n",
       "0.6971    1    \n",
       "0.6873    1    \n",
       "Name: gender:confidence, Length: 923, dtype: int64"
      ]
     },
     "execution_count": 173,
     "metadata": {},
     "output_type": "execute_result"
    }
   ],
   "source": [
    "data['gender:confidence'].value_counts()"
   ]
  },
  {
   "cell_type": "markdown",
   "metadata": {},
   "source": [
    "About 13926 gender categories which were classified by CrowdFlower AI(organization that provided the dataset to Kaggle) out of 20,050 were with 100% confidence. Hence, in order to predict the gender of the users I would be using only those genders who have 100% confidence level."
   ]
  },
  {
   "cell_type": "code",
   "execution_count": 174,
   "metadata": {},
   "outputs": [
    {
     "data": {
      "text/plain": [
       "female     6700\n",
       "male       6194\n",
       "brand      5942\n",
       "unknown    1117\n",
       "Name: gender, dtype: int64"
      ]
     },
     "execution_count": 174,
     "metadata": {},
     "output_type": "execute_result"
    }
   ],
   "source": [
    "data['gender'].value_counts()"
   ]
  },
  {
   "cell_type": "markdown",
   "metadata": {},
   "source": [
    "As we can see that there are 4 categories which exists in the gender feature. I am focusing this project in classifying whether the user is female, male or brand. I am not considering unknown category of gender because it is lesser in count and it doesn't provide much information about the user."
   ]
  },
  {
   "cell_type": "markdown",
   "metadata": {},
   "source": [
    "## Data Exploration"
   ]
  },
  {
   "cell_type": "markdown",
   "metadata": {},
   "source": [
    "## 1.  Link_Color and Sidebar_Color Features Exploration"
   ]
  },
  {
   "cell_type": "markdown",
   "metadata": {},
   "source": [
    "On Twitter, user can personalize their account by changing the colors of their links or their sidebars.\n",
    "\n",
    "__Assumption__: There is a pattern in which people from different genders personalize their page differently. \n",
    "\n",
    "Eg. Female use pink color on the links or the sidebar. And Male use blue color on the links or the sidebar.\n",
    "\n",
    "\n",
    "I would be exploring on two features link_color and sidebar_color for three categories of the gender (Male, Female and Brand)."
   ]
  },
  {
   "cell_type": "code",
   "execution_count": 175,
   "metadata": {},
   "outputs": [],
   "source": [
    "# Defining the function to return values from link_color and sidebar_color for each gender category\n",
    "def plot_color_features(data, feature, toRemove):\n",
    "    # Selecting columns from the data\n",
    "    df_col = data.loc[:, ['gender:confidence', 'gender', feature]]\n",
    "    \n",
    "    # Selecting rows where gender:confidence >= 1 and removing values like 7.60E+42\n",
    "    dfcolFiltered = df_col[(df_col['gender:confidence'] >= 1) &\n",
    "                         ((df_col[feature]).str.contains('E\\+') != True)]\n",
    "    \n",
    "    # Segregating data based on the gender category\n",
    "    Male_data = dfcolFiltered[dfcolFiltered['gender'] == 'male']\n",
    "    Female_data = dfcolFiltered[dfcolFiltered['gender'] == 'female']\n",
    "    Brand_data = dfcolFiltered[dfcolFiltered['gender'] == 'brand']\n",
    "    \n",
    "    # To plot the graph, I need top 20 colors along with its count for each gender category\n",
    "    color_male = Male_data[feature]\n",
    "    color_female = Female_data[feature]\n",
    "    color_brand = Brand_data[feature]\n",
    "    \n",
    "    # Creating list of lists by using flatten method\n",
    "    male_list = list(color_male.values.flatten())\n",
    "    female_list = list(color_female.values.flatten())\n",
    "    brand_list = list(color_brand.values.flatten())\n",
    "    \n",
    "    # Only Selecting top 20 colors used by each gender and creating a list which includes the color and the count\n",
    "    color_male = Counter(color_male).most_common(21)\n",
    "    color_female = Counter(color_female).most_common(21)\n",
    "    color_brand = Counter(color_brand).most_common(21)\n",
    "    \n",
    "    # Taking list of colors for each gender category\n",
    "    # Not selecting the first most common color from each of the gender category\n",
    "    male_colors = [x[0] for x in color_male[toRemove:]] \n",
    "    female_colors = [x[0] for x in color_female[toRemove:]] \n",
    "    brand_colors = [x[0] for x in color_brand[toRemove:]]\n",
    "    \n",
    "    # Taking list of counts for each gender category\n",
    "    # Not Selecting the first most common number because the most common color is blue for all the categories and it doesnt give much value\n",
    "    male_num = [x[1] for x in color_male[toRemove:]] \n",
    "    female_num = [x[1] for x in color_female[toRemove:]] \n",
    "    brand_num = [x[1] for x in color_brand[toRemove:]]\n",
    "    \n",
    "    # Converting hex codes into consistent format\n",
    "    # 1. Prefixing hex code with # and adding six zeros to it\n",
    "    # 2. Selecting 6 characters from the newly converted hex code\n",
    "    Hexcolor_Male = ['#' + x + '000000' for x in male_colors]\n",
    "    Hexcolor_Male = [x[0:7] for x in Hexcolor_Male]\n",
    "    Hexcolor_Female = ['#' + x + '000000' for x in female_colors]\n",
    "    Hexcolor_Female = [x[0:7] for x in Hexcolor_Female]\n",
    "    Hexcolor_Brand = ['#' + x + '000000' for x in brand_colors]\n",
    "    Hexcolor_Brand = [x[0:7] for x in Hexcolor_Brand]\n",
    "    \n",
    "    return male_num, female_num, brand_num, Hexcolor_Male, Hexcolor_Female, Hexcolor_Brand"
   ]
  },
  {
   "cell_type": "markdown",
   "metadata": {},
   "source": [
    "### A. Exploring link_color attribute for each of the gender category"
   ]
  },
  {
   "cell_type": "code",
   "execution_count": 176,
   "metadata": {},
   "outputs": [],
   "source": [
    "# calling function plot_color_features and removing 1 most common occuring color from each category\n",
    "male_num, female_num, brand_num, Hexcolor_Male, Hexcolor_Female, Hexcolor_Brand = plot_color_features(data, 'link_color', 1)"
   ]
  },
  {
   "cell_type": "code",
   "execution_count": 177,
   "metadata": {},
   "outputs": [],
   "source": [
    "col_range = list(range(len(male_num)))"
   ]
  },
  {
   "cell_type": "markdown",
   "metadata": {},
   "source": [
    "#### Plotting the graph of the link_color for the Male gender "
   ]
  },
  {
   "cell_type": "code",
   "execution_count": 178,
   "metadata": {},
   "outputs": [
    {
     "data": {
      "text/plain": [
       "Text(0.5,1,'Link Colors which Male gender prefer ')"
      ]
     },
     "execution_count": 178,
     "metadata": {},
     "output_type": "execute_result"
    },
    {
     "data": {
      "image/png": "[encoded data removed]",
      "text/plain": [
       "<matplotlib.figure.Figure at 0xfd0d25a358>"
      ]
     },
     "metadata": {},
     "output_type": "display_data"
    }
   ],
   "source": [
    "plt.barh(col_range,male_num,\n",
    "                label = 'Male', color = Hexcolor_Male)\n",
    "plt.yticks(col_range, Hexcolor_Male)\n",
    "plt.xlabel('color')\n",
    "plt.ylabel('link_color')\n",
    "plt. title('Link Colors which Male gender prefer ')"
   ]
  },
  {
   "cell_type": "markdown",
   "metadata": {},
   "source": [
    "#### Plotting the graph of the link_color for the Female gender "
   ]
  },
  {
   "cell_type": "code",
   "execution_count": 179,
   "metadata": {},
   "outputs": [
    {
     "data": {
      "text/plain": [
       "Text(0.5,1,'Link Colors which Female gender prefer')"
      ]
     },
     "execution_count": 179,
     "metadata": {},
     "output_type": "execute_result"
    },
    {
     "data": {
      "image/png": "[encoded data removed]",
      "text/plain": [
       "<matplotlib.figure.Figure at 0xfd0d1e8be0>"
      ]
     },
     "metadata": {},
     "output_type": "display_data"
    }
   ],
   "source": [
    "plt.barh(col_range,female_num,\n",
    "                label = 'Female', color = Hexcolor_Female)\n",
    "plt.yticks(col_range, Hexcolor_Female)\n",
    "plt.xlabel('color')\n",
    "plt.ylabel('link_color')\n",
    "plt. title('Link Colors which Female gender prefer')"
   ]
  },
  {
   "cell_type": "markdown",
   "metadata": {},
   "source": [
    "#### Plotting the graph of the link_color for the Brand gender "
   ]
  },
  {
   "cell_type": "code",
   "execution_count": 180,
   "metadata": {},
   "outputs": [
    {
     "data": {
      "text/plain": [
       "Text(0.5,1,'Link Colors which Brand gender prefer')"
      ]
     },
     "execution_count": 180,
     "metadata": {},
     "output_type": "execute_result"
    },
    {
     "data": {
      "image/png": "[encoded data removed]",
      "text/plain": [
       "<matplotlib.figure.Figure at 0xfd0d7305c0>"
      ]
     },
     "metadata": {},
     "output_type": "display_data"
    }
   ],
   "source": [
    "plt.barh(col_range,brand_num,\n",
    "                label = 'Brand', color = Hexcolor_Brand)\n",
    "plt.yticks(col_range, Hexcolor_Brand)\n",
    "plt.xlabel('color')\n",
    "plt.ylabel('link_color')\n",
    "plt. title('Link Colors which Brand gender prefer')"
   ]
  },
  {
   "cell_type": "markdown",
   "metadata": {},
   "source": [
    "### B. Exploring sidebar_color for each of the gender category"
   ]
  },
  {
   "cell_type": "code",
   "execution_count": 181,
   "metadata": {},
   "outputs": [],
   "source": [
    "# calling function plot_color_features and removing 4 most common occuring color from each category\n",
    "male_num_sc, female_num_sc, brand_num_sc, Hexcolor_Male_sc, Hexcolor_Female_sc, Hexcolor_Brand_sc = plot_color_features(data, 'sidebar_color', 4)"
   ]
  },
  {
   "cell_type": "code",
   "execution_count": 182,
   "metadata": {},
   "outputs": [],
   "source": [
    "col_range_sc = list(range(len(male_num_sc)))"
   ]
  },
  {
   "cell_type": "markdown",
   "metadata": {},
   "source": [
    "#### Plotting the graph of the side_color for the Male gender "
   ]
  },
  {
   "cell_type": "code",
   "execution_count": 183,
   "metadata": {},
   "outputs": [
    {
     "data": {
      "text/plain": [
       "Text(0.5,1,'Sidebar colors which Male gender prefer')"
      ]
     },
     "execution_count": 183,
     "metadata": {},
     "output_type": "execute_result"
    },
    {
     "data": {
      "image/png": "[encoded data removed]",
      "text/plain": [
       "<matplotlib.figure.Figure at 0xfd0d4f7400>"
      ]
     },
     "metadata": {},
     "output_type": "display_data"
    }
   ],
   "source": [
    "plt.barh(col_range_sc,male_num_sc,\n",
    "                label = 'Male', color = Hexcolor_Male_sc)\n",
    "plt.yticks(col_range_sc, Hexcolor_Male_sc)\n",
    "plt.xlabel('color')\n",
    "plt.ylabel('sidebar_color')\n",
    "plt. title('Sidebar colors which Male gender prefer')"
   ]
  },
  {
   "cell_type": "markdown",
   "metadata": {},
   "source": [
    "#### Plotting the graph of the sidebar_color for the Female gender "
   ]
  },
  {
   "cell_type": "code",
   "execution_count": 184,
   "metadata": {},
   "outputs": [
    {
     "data": {
      "text/plain": [
       "Text(0.5,1,'Sidebar colors which Female gender prefer')"
      ]
     },
     "execution_count": 184,
     "metadata": {},
     "output_type": "execute_result"
    },
    {
     "data": {
      "image/png": "[encoded data removed]",
      "text/plain": [
       "<matplotlib.figure.Figure at 0xfd0d46a6d8>"
      ]
     },
     "metadata": {},
     "output_type": "display_data"
    }
   ],
   "source": [
    "plt.barh(col_range_sc,female_num_sc,\n",
    "                label = 'Female', color = Hexcolor_Female_sc)\n",
    "plt.yticks(col_range_sc, Hexcolor_Female_sc)\n",
    "plt.xlabel('color')\n",
    "plt.ylabel('sidebar_color')\n",
    "plt. title('Sidebar colors which Female gender prefer')"
   ]
  },
  {
   "cell_type": "markdown",
   "metadata": {},
   "source": [
    "#### Plotting the graph of the sidebar_color for the Brand gender "
   ]
  },
  {
   "cell_type": "code",
   "execution_count": 185,
   "metadata": {},
   "outputs": [
    {
     "data": {
      "text/plain": [
       "Text(0.5,1,'Sidebar colors which Brand gender prefer')"
      ]
     },
     "execution_count": 185,
     "metadata": {},
     "output_type": "execute_result"
    },
    {
     "data": {
      "image/png": "[encoded data removed]",
      "text/plain": [
       "<matplotlib.figure.Figure at 0xfd0ec5e978>"
      ]
     },
     "metadata": {},
     "output_type": "display_data"
    }
   ],
   "source": [
    "plt.barh(col_range_sc,brand_num_sc,\n",
    "                label = 'Brand', color = Hexcolor_Brand_sc)\n",
    "plt.yticks(col_range_sc, Hexcolor_Brand_sc)\n",
    "plt.xlabel('color')\n",
    "plt.ylabel('sidebar_color')\n",
    "plt. title('Sidebar colors which Brand gender prefer')"
   ]
  },
  {
   "cell_type": "markdown",
   "metadata": {},
   "source": [
    "__Observations from the Colors Features exploration__\n",
    "1. Female prefer pink and purple as their link_color\n",
    "2. Male prefer green and blue as their link_color\n",
    "3. Brand prefer blue or green as their link_color\n",
    "4. Users change link color more than the side bar color"
   ]
  },
  {
   "cell_type": "markdown",
   "metadata": {},
   "source": [
    "## 2. Text and Description Features Exploration\n",
    "\n",
    "Exploring which words are mostly used by each gender category (Male, Female and Brand). I would be exploring two attributes of the dataset - text from user description and text from tweets."
   ]
  },
  {
   "cell_type": "markdown",
   "metadata": {},
   "source": [
    "Description field contains description of the user's profile. This field contains 3744 values as NaN (ie. Not a Number). It would cause problem while trying to clean 'description' field. Therefore changing NaN to blank (ie. '') "
   ]
  },
  {
   "cell_type": "code",
   "execution_count": 186,
   "metadata": {},
   "outputs": [],
   "source": [
    "data.description = data.description.fillna('')"
   ]
  },
  {
   "cell_type": "markdown",
   "metadata": {},
   "source": [
    "### Data Cleaning"
   ]
  },
  {
   "cell_type": "markdown",
   "metadata": {},
   "source": [
    "In order to explore the texts, it is necessary to normalize the text. I would follow below steps for cleaning the texts.\n",
    "1. Normalize the text into lowercase\n",
    "2. Remove punctuations\n",
    "3. Remove numbers\n",
    "4. Remove double spaces\n",
    "5. Remove hyperlinks"
   ]
  },
  {
   "cell_type": "code",
   "execution_count": 187,
   "metadata": {},
   "outputs": [],
   "source": [
    "import string\n",
    "def clean(s):\n",
    "    s = str(s)        # Converting to string\n",
    "    s = s.lower()     # Normalizing text by converting everything to lower case\n",
    "    \n",
    "    # Removing characters that are non-alphanumeric\n",
    "    s = re.sub('https://t.co/\\w+', ' ',s)\n",
    "    s = re.sub('\\s\\W',' ',s) # Replacing one whitespace followed by one non-alphanumeric character with ' '\n",
    "    s = re.sub('\\W,\\s', ' ', s) # Replacing one non-alphanumeric character  followed by comma and one whitespace with ' '\n",
    "    s = re.sub(\"\\d+\",' ',s)     # Removing 1 or more digits\n",
    "    s = re.sub('\\s+', ' ', s)   # Removing 1 or more spaces from the text\n",
    "    s = re.sub('[!#?$@_%]', ' ', s) # Removing !, @, #, $, _ from the string\n",
    "    s = s.replace(',', ' ')\n",
    "    s = s.replace('[\\W*]', ' ')\n",
    "    return s"
   ]
  },
  {
   "cell_type": "code",
   "execution_count": 188,
   "metadata": {},
   "outputs": [],
   "source": [
    "data['text_normalized'] = [clean(text) for text in data['text']]\n",
    "data['desc_normalized'] = [clean(desc) for desc in data['description']] "
   ]
  },
  {
   "cell_type": "code",
   "execution_count": 189,
   "metadata": {},
   "outputs": [
    {
     "data": {
      "text/plain": [
       "0        robbie e responds to critics after win against eddie edwards in the worldtitleseries                                                      \n",
       "1        ûïit felt like they were my friends and i was living the story with themû retired ian                                                  \n",
       "2        i absolutely adore when louis starts the songs it hits me hard but it feels good                                                          \n",
       "3        hi jordanspieth looking at the url do you use ifttt   don't typically see an advanced user on the pgatour                                 \n",
       "4        watching neighbours on sky+ catching up with the neighbs   xxx  ù÷ä ù÷ä ù÷ä ùôî ùè ùô ùè xxx                                           \n",
       "5        ive seen people on the train with lamps  chairs  tvs etc                                                                                  \n",
       "6         bpackengineer thank you for your patience while we take care of the issue                                                                \n",
       "7        gala bingo clubs bought for å£ m: the uk's largest high street bingo operator  gala  is being taken over byû                             \n",
       "8          aphmau  the pic defines all mcd fangirls/fanboys and mcd shippers xd                                                                    \n",
       "9         evielady just how lovely is the tree this year  never seen it as gorgeous as this autumn colour                                          \n",
       "10       how are you taking care of yourself  fitfluential                                                                                         \n",
       "11       mtg deals x rank-up-magic the seventh one prio-en secret rare unlimi                                                                      \n",
       "12       just put my ass on the line for you and this is how you repay me.                                                                         \n",
       "13        what the nation will be talking about after wednesday's gop debates business now                                                         \n",
       "14       will i even need sound effects for the diviners tonight                                                                                   \n",
       "15        it's a glow of satisfaction re the glow                                                                                                  \n",
       "16        giannaaa lmao  ù÷â ù÷â dude i'm hella scared for next episode bc the ending to yesterday's                                               \n",
       "17        coolyazzy ditto i'm still learning the favourites and retweet stuff least it sucks less than facebook haha p                             \n",
       "18        caribbros jstsaleem i do but i don't understand how to get to the server to get it                                                       \n",
       "19       me too  saw five lionesses drinking around the little pan one half block away  made a kill behind land r. safarilive                      \n",
       "20        craftyear isabelpascual thank you for the retweets                                                                                       \n",
       "21       all the girls went to sleep and the guys just sat in the floor and watched us ù÷â ù÷â                                                     \n",
       "22        chrisaofficial i'm on the right side ù÷âïî ù üxxx                                                                                    \n",
       "23       yall lmfaoo right when the chorus came on  a tear rolled down his face                                                                    \n",
       "24       james bond premier night at the everymancinema in oxted with sidiedey. let's hope it lives up to expectation  spectre                     \n",
       "25        sydniejr except once the hallmark movies start i won't get anything done    ù÷  ù  ù ã                                                  \n",
       "26       how beautiful is the religion which teaches you to love for others what you love for yourself   islam muslim muslims                      \n",
       "27       fuck you nasa is awesome.                                                                                                                 \n",
       "28       you leave the group chat for more than mins and you miss made shit                                                                        \n",
       "29       as opposed to pump where it's like hi hope you like doing jumps where you spread your feet across the entire stage                        \n",
       "                                                                ...                                                                                \n",
       "20020     wwii oct   new guinea: af p- s escort raaf medium bombers against shipping targets in the dûªentrecasteaux islands. ww history          \n",
       "20021    and yes im toting catch em without my strap amp; i'ma poke him                                                                            \n",
       "20022    i think i'm going to move to colorado for the winter                                                                                      \n",
       "20023    george bush and dick cheney need to vacation in irac the paradise they created                                                            \n",
       "20024    the droids you're looking for... comics                                                                                                   \n",
       "20025    ha ha   i know what you mean bizstartuplady blink and it's gone  outthere                                                                 \n",
       "20026    still looking for the free bar                                                                                                            \n",
       "20027    the junior doctors had civil unrest in london yet hardly reported                                                                         \n",
       "20028     lmaokaylinx charlieputh but then i opened the picture and omgg                                                                           \n",
       "20029    the complete gillian flynn gone girl sharp objects dark places set soft cover bid now  oû                                                \n",
       "20030    the white house is ready for tech to step up in government via techcrunch preetnation                                                     \n",
       "20031    bun b saving kids and ribs   ...not all heroes have capes    black lives matter and so do ribs too   û                                   \n",
       "20032     legobutts you can do quests and kill stuff while wearing a mask and it'll get you candy you can use to get more masks without paying     \n",
       "20033    i finally read blood of olympus and now that my children are all happy i can read the rest of my pile of books  ùô ùô                   \n",
       "20034    view the community halloween spooktacular cityclubraleigh photo album                                                                     \n",
       "20035    beetlejuice is the perfect halloween movie      -) beetlejuice timburton                                                                  \n",
       "20036     itsleehinchy leesqanda what's the story in balamory                                                                                      \n",
       "20037     trentwalton oguzbilgic spell it out in all-caps and i think you may have a candidate for a new unicode character there. cc emojiproposals\n",
       "20038    jon stewart's animal sanctuary and educational center begins on new jersey farm                                                           \n",
       "20039    especially when all you do is the best you can and you still get shit on                                                                  \n",
       "20040    discovered it in england. it's how they eat fish and chips. never went back to ketchup.                                                   \n",
       "20041    for stan and lisa... has coffee cup at ufo                                                                                                \n",
       "20042    best bloody mary brunch at the nycwff nyceff deathsdoor homemadedelish menageatroisû                                                     \n",
       "20043    game faggot and venison loin  crisp spelt and quince                                                                                      \n",
       "20044    need a ride home from practice  ù÷ô ù÷ô ù÷ôand its raining hard asf  ù÷© ù÷© ù÷© ùõø                                                      \n",
       "20045     lookupondeath ..fine  and i'll drink tea too. i love you.                                                                                \n",
       "20046    greg hardy you a good player and all but don't get in the face of dez bryant. learn your place mane.                                      \n",
       "20047    you can miss people and still never want to see them again                                                                                \n",
       "20048     bitemyapp i had noticed your tendency to pee on the carpet  but i didn't want to say anything p                                          \n",
       "20049    i think for my apush creative project i'm going to bring bacon to class and eat it to represent bacon's rebellion                         \n",
       "Name: text_normalized, Length: 20050, dtype: object"
      ]
     },
     "execution_count": 189,
     "metadata": {},
     "output_type": "execute_result"
    }
   ],
   "source": [
    "pd.options.display.max_rows\n",
    "pd.set_option('display.max_colwidth', -1)\n",
    "\n",
    "data['text_normalized']"
   ]
  },
  {
   "cell_type": "code",
   "execution_count": 293,
   "metadata": {},
   "outputs": [
    {
     "data": {
      "text/plain": [
       "(34,)"
      ]
     },
     "execution_count": 293,
     "metadata": {},
     "output_type": "execute_result"
    }
   ],
   "source": [
    "data[data['link_color'].str.contains('E\\+') == True]['link_color'].shape"
   ]
  },
  {
   "cell_type": "code",
   "execution_count": 281,
   "metadata": {},
   "outputs": [],
   "source": [
    "# Putting all the interesting text together, \n",
    "# i.e. the profile description and the tweets itself in one string for each user\n",
    "dfText = data\n",
    "dfText['all_text'] =dfText['text_normalized'].str.cat(dfText['desc_normalized'],sep=' ')\n",
    "\n",
    "# Selecting rows where the confidence in gender is 1 and gender categories are female, male and brand\n",
    "# Since link_Color column contains values like 2.21E+09. Hence eliminating such values\n",
    "dfText = dfText[(dfText['gender:confidence']==1)&(dfText['gender']!='unknown')]#&(dfText['link_color'].str.contains('E\\+') != True)]"
   ]
  },
  {
   "cell_type": "code",
   "execution_count": 282,
   "metadata": {},
   "outputs": [
    {
     "data": {
      "text/plain": [
       "(13804, 29)"
      ]
     },
     "execution_count": 282,
     "metadata": {},
     "output_type": "execute_result"
    }
   ],
   "source": [
    "dfText.shape"
   ]
  },
  {
   "cell_type": "code",
   "execution_count": 283,
   "metadata": {},
   "outputs": [],
   "source": [
    "male = dfText[dfText['gender'] == 'male']\n",
    "female = dfText[dfText['gender'] == 'female']\n",
    "brand = dfText[dfText['gender'] == 'brand']"
   ]
  },
  {
   "cell_type": "markdown",
   "metadata": {},
   "source": [
    "### Tokenization"
   ]
  },
  {
   "cell_type": "markdown",
   "metadata": {},
   "source": [
    "To visualize the most frequent words used by each category of gender, it is necessary to tokenize the cleaned text. For the tokenization task, I will use CountVectorizer in order to create bag of words. Also, I will remove stopwords and unicodes from the bag of words in order to get some words which makes sense."
   ]
  },
  {
   "cell_type": "code",
   "execution_count": 284,
   "metadata": {},
   "outputs": [],
   "source": [
    "cvec = CountVectorizer(stop_words='english', strip_accents = 'unicode')"
   ]
  },
  {
   "cell_type": "code",
   "execution_count": 285,
   "metadata": {},
   "outputs": [
    {
     "data": {
      "text/plain": [
       "(4653, 29)"
      ]
     },
     "execution_count": 285,
     "metadata": {},
     "output_type": "execute_result"
    }
   ],
   "source": [
    "male.shape"
   ]
  },
  {
   "cell_type": "markdown",
   "metadata": {},
   "source": [
    "### Gender: Male"
   ]
  },
  {
   "cell_type": "markdown",
   "metadata": {},
   "source": [
    "#### Plotting the graph of the most frequent words used by Male gender based on the all_text "
   ]
  },
  {
   "cell_type": "code",
   "execution_count": 298,
   "metadata": {
    "scrolled": true
   },
   "outputs": [
    {
     "data": {
      "text/plain": [
       "<matplotlib.axes._subplots.AxesSubplot at 0xfd13fbcb70>"
      ]
     },
     "execution_count": 298,
     "metadata": {},
     "output_type": "execute_result"
    },
    {
     "data": {
      "image/png": "[encoded data removed]",
      "text/plain": [
       "<matplotlib.figure.Figure at 0xfd091f70b8>"
      ]
     },
     "metadata": {},
     "output_type": "display_data"
    }
   ],
   "source": [
    "cvec.fit(male['all_text'])\n",
    "\n",
    "male_df = pd.DataFrame(cvec.transform(male['all_text']).todense(),\n",
    "                      columns = cvec.get_feature_names())\n",
    "male_word_counts = male_df.sum(axis=0)\n",
    "male_word_counts.sort_values(ascending=False).head(20)\n",
    "male_word_counts.sort_values(ascending= False).head(10).plot(kind = 'barh', \n",
    "                                                             title = 'Most Frequent words used by Male users based on the texts combined from tweets and description of users',color= 'blue')"
   ]
  },
  {
   "cell_type": "markdown",
   "metadata": {},
   "source": [
    "#### Plotting the graph of the most frequent words used by Male gender based on the profile description of the user"
   ]
  },
  {
   "cell_type": "code",
   "execution_count": 299,
   "metadata": {
    "scrolled": true
   },
   "outputs": [
    {
     "data": {
      "text/plain": [
       "<matplotlib.axes._subplots.AxesSubplot at 0xfd096933c8>"
      ]
     },
     "execution_count": 299,
     "metadata": {},
     "output_type": "execute_result"
    },
    {
     "data": {
      "image/png": "[encoded data removed]",
      "text/plain": [
       "<matplotlib.figure.Figure at 0xfd09693cc0>"
      ]
     },
     "metadata": {},
     "output_type": "display_data"
    }
   ],
   "source": [
    "cvec.fit(male['desc_normalized'])\n",
    "\n",
    "male_df_desc = pd.DataFrame(cvec.transform(male['desc_normalized']).todense(),\n",
    "                      columns = cvec.get_feature_names())\n",
    "male_word_counts_desc = male_df_desc.sum(axis=0)\n",
    "male_word_counts_desc.sort_values(ascending=False).head(20)\n",
    "male_word_counts_desc.sort_values(ascending= False).head(10).plot(kind = 'barh', \n",
    "                                                             title = 'Most Frequent words used by Male users based on the profile description', color = 'blue')\n"
   ]
  },
  {
   "cell_type": "markdown",
   "metadata": {},
   "source": [
    "#### Plotting the graph of the most frequent words used by Male gender based on the tweets posted by the user"
   ]
  },
  {
   "cell_type": "code",
   "execution_count": 300,
   "metadata": {
    "scrolled": true
   },
   "outputs": [
    {
     "data": {
      "text/plain": [
       "<matplotlib.axes._subplots.AxesSubplot at 0xfd03e979b0>"
      ]
     },
     "execution_count": 300,
     "metadata": {},
     "output_type": "execute_result"
    },
    {
     "data": {
      "image/png": "[encoded data removed]",
      "text/plain": [
       "<matplotlib.figure.Figure at 0xfd03e972b0>"
      ]
     },
     "metadata": {},
     "output_type": "display_data"
    }
   ],
   "source": [
    "cvec.fit(male['text_normalized'])\n",
    "\n",
    "male_df_text = pd.DataFrame(cvec.transform(male['text_normalized']).todense(),\n",
    "                      columns = cvec.get_feature_names())\n",
    "male_word_counts_text = male_df_text.sum(axis=0)\n",
    "male_word_counts_text.sort_values(ascending=False).head(20)\n",
    "male_word_counts_text.sort_values(ascending= False).head(10).plot(kind = 'barh', \n",
    "                                                             title = 'Most Frequent words used by Male users based on the tweets posted by the user', color = 'blue')\n"
   ]
  },
  {
   "cell_type": "markdown",
   "metadata": {},
   "source": [
    "### Gender: Female"
   ]
  },
  {
   "cell_type": "markdown",
   "metadata": {},
   "source": [
    "#### Plotting the graph of the most frequent words used by Female gender based on the all_text "
   ]
  },
  {
   "cell_type": "code",
   "execution_count": 304,
   "metadata": {},
   "outputs": [
    {
     "data": {
      "text/plain": [
       "<matplotlib.axes._subplots.AxesSubplot at 0xfd06849400>"
      ]
     },
     "execution_count": 304,
     "metadata": {},
     "output_type": "execute_result"
    },
    {
     "data": {
      "image/png": "[encoded data removed]",
      "text/plain": [
       "<matplotlib.figure.Figure at 0xfd072c0b70>"
      ]
     },
     "metadata": {},
     "output_type": "display_data"
    }
   ],
   "source": [
    "cvec.fit(female['all_text'])\n",
    "\n",
    "female_df = pd.DataFrame(cvec.transform(female['all_text']).todense(),\n",
    "                      columns = cvec.get_feature_names())\n",
    "female_word_counts = female_df.sum(axis=0)\n",
    "female_word_counts.sort_values(ascending=False).head(20)\n",
    "female_word_counts.sort_values(ascending= False).head(10).plot(kind = 'barh', \n",
    "                                                             title = 'Most Frequent words used by Female users based on the texts combined from tweets and description of users', color = 'pink')\n"
   ]
  },
  {
   "cell_type": "markdown",
   "metadata": {},
   "source": [
    "#### Plotting the graph of the most frequent words used by Female gender based on the profile description of the user"
   ]
  },
  {
   "cell_type": "code",
   "execution_count": 302,
   "metadata": {},
   "outputs": [
    {
     "data": {
      "text/plain": [
       "<matplotlib.axes._subplots.AxesSubplot at 0xfd0b7792e8>"
      ]
     },
     "execution_count": 302,
     "metadata": {},
     "output_type": "execute_result"
    },
    {
     "data": {
      "image/png": "[encoded data removed]",
      "text/plain": [
       "<matplotlib.figure.Figure at 0xfd07f5ae10>"
      ]
     },
     "metadata": {},
     "output_type": "display_data"
    }
   ],
   "source": [
    "cvec.fit(female['desc_normalized'])\n",
    "\n",
    "female_df_desc = pd.DataFrame(cvec.transform(female['desc_normalized']).todense(),\n",
    "                      columns = cvec.get_feature_names())\n",
    "female_word_counts_desc = female_df_desc.sum(axis=0)\n",
    "female_word_counts_desc.sort_values(ascending=False).head(20)\n",
    "female_word_counts_desc.sort_values(ascending= False).head(10).plot(kind = 'barh', \n",
    "                                                             title = 'Most Frequent words used by Female users based on the profile description of the users', color = 'pink')"
   ]
  },
  {
   "cell_type": "markdown",
   "metadata": {},
   "source": [
    "#### Plotting the graph of the most frequent words used by Female gender based on the tweets posted by the user"
   ]
  },
  {
   "cell_type": "code",
   "execution_count": 306,
   "metadata": {},
   "outputs": [
    {
     "data": {
      "text/plain": [
       "<matplotlib.axes._subplots.AxesSubplot at 0xfd03d78860>"
      ]
     },
     "execution_count": 306,
     "metadata": {},
     "output_type": "execute_result"
    },
    {
     "data": {
      "image/png": "[encoded data removed]",
      "text/plain": [
       "<matplotlib.figure.Figure at 0xfd07ca5dd8>"
      ]
     },
     "metadata": {},
     "output_type": "display_data"
    }
   ],
   "source": [
    "cvec.fit(female['text_normalized'])\n",
    "\n",
    "female_df_text = pd.DataFrame(cvec.transform(female['text_normalized']).todense(),\n",
    "                      columns = cvec.get_feature_names())\n",
    "female_word_counts_text = female_df_text.sum(axis=0)\n",
    "female_word_counts_text.sort_values(ascending=False).head(20)\n",
    "female_word_counts_text.sort_values(ascending= False).head(10).plot(kind = 'barh', \n",
    "                                                             title = 'Most Frequent words used by Female users based on the tweets posted by the user', color= 'pink')\n"
   ]
  },
  {
   "cell_type": "markdown",
   "metadata": {},
   "source": [
    "### Gender: Brand"
   ]
  },
  {
   "cell_type": "markdown",
   "metadata": {},
   "source": [
    "#### Plotting the graph of the most frequent words used by Brand based on the all_text "
   ]
  },
  {
   "cell_type": "code",
   "execution_count": 307,
   "metadata": {
    "scrolled": true
   },
   "outputs": [
    {
     "data": {
      "text/plain": [
       "<matplotlib.axes._subplots.AxesSubplot at 0xfd056b7710>"
      ]
     },
     "execution_count": 307,
     "metadata": {},
     "output_type": "execute_result"
    },
    {
     "data": {
      "image/png": "[encoded data removed]",
      "text/plain": [
       "<matplotlib.figure.Figure at 0xfd056b2898>"
      ]
     },
     "metadata": {},
     "output_type": "display_data"
    }
   ],
   "source": [
    "cvec.fit(brand['all_text'])\n",
    "\n",
    "brand_df = pd.DataFrame(cvec.transform(brand['all_text']).todense(),\n",
    "                      columns = cvec.get_feature_names())\n",
    "brand_word_counts = brand_df.sum(axis=0)\n",
    "brand_word_counts.sort_values(ascending=False).head(20)\n",
    "brand_word_counts.sort_values(ascending= False).head(10).plot(kind = 'barh', \n",
    "                                                             title = 'Most Frequent words used by Brands based on the texts combined from tweets and description of users', color = 'green')\n"
   ]
  },
  {
   "cell_type": "markdown",
   "metadata": {},
   "source": [
    "#### Plotting the graph of the most frequent words used by Brand based on the profile description of the user"
   ]
  },
  {
   "cell_type": "code",
   "execution_count": 308,
   "metadata": {},
   "outputs": [
    {
     "data": {
      "text/plain": [
       "<matplotlib.axes._subplots.AxesSubplot at 0xfd0431fd30>"
      ]
     },
     "execution_count": 308,
     "metadata": {},
     "output_type": "execute_result"
    },
    {
     "data": {
      "image/png": "[encoded data removed]",
      "text/plain": [
       "<matplotlib.figure.Figure at 0xfd0431f4e0>"
      ]
     },
     "metadata": {},
     "output_type": "display_data"
    }
   ],
   "source": [
    "cvec.fit(brand['desc_normalized'])\n",
    "\n",
    "brand_df_desc = pd.DataFrame(cvec.transform(brand['desc_normalized']).todense(),\n",
    "                      columns = cvec.get_feature_names())\n",
    "brand_word_counts_desc = brand_df_desc.sum(axis=0)\n",
    "brand_word_counts_desc.sort_values(ascending=False).head(20)\n",
    "brand_word_counts_desc.sort_values(ascending= False).head(10).plot(kind = 'barh', \n",
    "                                                             title = 'Most Frequent words used by Brands based on the texts collected from profile description of users', color = 'green')"
   ]
  },
  {
   "cell_type": "markdown",
   "metadata": {},
   "source": [
    "#### Plotting the graph of the most frequent words used by Brands based on the tweets posted by the user"
   ]
  },
  {
   "cell_type": "code",
   "execution_count": 309,
   "metadata": {},
   "outputs": [
    {
     "data": {
      "text/plain": [
       "<matplotlib.axes._subplots.AxesSubplot at 0xfd045f9a90>"
      ]
     },
     "execution_count": 309,
     "metadata": {},
     "output_type": "execute_result"
    },
    {
     "data": {
      "image/png": "[encoded data removed]",
      "text/plain": [
       "<matplotlib.figure.Figure at 0xfd045f90b8>"
      ]
     },
     "metadata": {},
     "output_type": "display_data"
    }
   ],
   "source": [
    "cvec.fit(brand['text_normalized'])\n",
    "\n",
    "brand_df_text = pd.DataFrame(cvec.transform(brand['text_normalized']).todense(),\n",
    "                      columns = cvec.get_feature_names())\n",
    "brand_word_counts_text = brand_df_text.sum(axis=0)\n",
    "brand_word_counts_text.sort_values(ascending=False).head(20)\n",
    "brand_word_counts_text.sort_values(ascending= False).head(10).plot(kind = 'barh', \n",
    "                                                             title = 'Most Frequent words used by Brands based on the tweets posted', color= 'green')\n"
   ]
  },
  {
   "cell_type": "markdown",
   "metadata": {},
   "source": [
    "__Observations:__\n",
    "1. The results from the text features exploration are not quite conclusive when compared with results obtained from the colors features exploration.\n",
    "2. Most used words used by male and female gender, are very similar words such as \"just\", \"like\", \"love\" which this does not give us any information about the gender really. \n",
    "3. One interesting thing that can be noticed is that the brands tends to use the words \"weather\", \"channel\" and \"news\" more than regular male and female users. This means that we have probably many information or weather channels accounts in our dataset. Another interesting fact is on the usage of the word \"https\". It seems like brands tend to post more links than standard users."
   ]
  },
  {
   "cell_type": "markdown",
   "metadata": {},
   "source": [
    "## Data Modeling"
   ]
  },
  {
   "cell_type": "markdown",
   "metadata": {},
   "source": [
    "I will use machine learning algorithms to predict the user's gender based on color features and text features.\n",
    "For the data modelling phase of the project, I will perform below steps\n",
    "\n",
    "1. Creating dummy variables for gender attribute in the dataset.\n",
    "2. Splitting data into training and test set by using 70:30\n",
    "3. I will run following models on the training data and predicting on the test data\n",
    "    - SVC()\n",
    "    - KNeighborsClassifier()\n",
    "    - RandomForestClassifier()\n",
    "    - LogisticRegression()\n",
    "    - MultinomialNB()\n",
    "4. Evaluate model based on Accuracy."
   ]
  },
  {
   "cell_type": "code",
   "execution_count": 226,
   "metadata": {},
   "outputs": [],
   "source": [
    "# following models will be used to train our dataset\n",
    "models = [linear_model.LogisticRegression(),\n",
    "          naive_bayes.MultinomialNB(),\n",
    "          RandomForestClassifier(n_estimators=50),\n",
    "          KNeighborsClassifier(),\n",
    "          SVC()]"
   ]
  },
  {
   "cell_type": "code",
   "execution_count": 227,
   "metadata": {},
   "outputs": [],
   "source": [
    "# eval_model function trains the classifier using training dataset, predicts on test set and returns accuracy for the model on the test.\n",
    "def eval_model(model):\n",
    "    model.fit(x_train, y_train)\n",
    "    y_pred = model.predict(x_test)\n",
    "    acc = model.score(x_test,y_test)\n",
    "    return acc"
   ]
  },
  {
   "cell_type": "code",
   "execution_count": 353,
   "metadata": {},
   "outputs": [],
   "source": [
    "## Defining a function for tokenization where I am removing the stopwords and unicodes from the tokens\n",
    "def bag_of_words_cal(text):\n",
    "    vectorizer = CountVectorizer(stop_words='english',\n",
    "                                  strip_accents = 'unicode')\n",
    "    vectors = vectorizer.fit_transform(text)\n",
    "    #vocabulary = vectorizer.get_feature_names()\n",
    "    return vectors#, vocabulary"
   ]
  },
  {
   "cell_type": "markdown",
   "metadata": {},
   "source": [
    "### How well do stylistic factors (like link_color and sidebar_color) predict user gender?"
   ]
  },
  {
   "cell_type": "markdown",
   "metadata": {},
   "source": [
    "### A. Evaluating the relationship between link_color and user's gender"
   ]
  },
  {
   "cell_type": "code",
   "execution_count": 354,
   "metadata": {},
   "outputs": [],
   "source": [
    "from sklearn import linear_model, metrics\n",
    "from sklearn import naive_bayes\n",
    "from sklearn.pipeline import make_pipeline\n",
    "\n",
    "# Using feature link_color as we saw from the visualizations that users tend to change link_color more than the sidebar color\n",
    "df_col = data.loc[:, ['gender:confidence', 'gender', 'link_color']]#, 'sidebar_color']]\n",
    "\n",
    "# Selecting rows where gender:confidence >= 1 and removing values like 7.60E+42\n",
    "dfcolFiltered = df_col[(df_col['gender:confidence'] >= 1) & ((df_col['link_color']).str.contains('E\\+') != True)]\n",
    "\n",
    "bow = bag_of_words_cal(dfcolFiltered['link_color'])\n",
    "X = bow\n",
    " \n",
    "y = LabelEncoder().fit_transform(dfcolFiltered['gender'])\n",
    "\n",
    "# Listing the classifiers I want to test the data on\n"
   ]
  },
  {
   "cell_type": "code",
   "execution_count": 216,
   "metadata": {},
   "outputs": [
    {
     "data": {
      "text/plain": [
       "(13900, 2290)"
      ]
     },
     "execution_count": 216,
     "metadata": {},
     "output_type": "execute_result"
    }
   ],
   "source": [
    "X.shape"
   ]
  },
  {
   "cell_type": "code",
   "execution_count": 217,
   "metadata": {},
   "outputs": [],
   "source": [
    "x_train, x_test, y_train, y_test = train_test_split(X, y,\n",
    "                                                    test_size=0.3,\n",
    "                                                    stratify = y,\n",
    "                                                    random_state = 123)"
   ]
  },
  {
   "cell_type": "code",
   "execution_count": 218,
   "metadata": {},
   "outputs": [
    {
     "name": "stdout",
     "output_type": "stream",
     "text": [
      "(9730, 2290)\n",
      "(4170, 2290)\n",
      "(9730,)\n",
      "(4170,)\n"
     ]
    }
   ],
   "source": [
    "print(x_train.shape)\n",
    "print(x_test.shape)\n",
    "print(y_train.shape)\n",
    "print(y_test.shape)"
   ]
  },
  {
   "cell_type": "markdown",
   "metadata": {},
   "source": [
    "#### Baseline Model - link_color"
   ]
  },
  {
   "cell_type": "markdown",
   "metadata": {},
   "source": [
    "Calculating the baseline model by predicting the most frequently occuring gender class in the dataset. "
   ]
  },
  {
   "cell_type": "code",
   "execution_count": 219,
   "metadata": {},
   "outputs": [],
   "source": [
    "base_model = make_pipeline(CountVectorizer(analyzer=identity), DummyClassifier('most_frequent'))     \n",
    "base_score = cross_val_score(base_model,dfcolFiltered['link_color'], \n",
    "                             dfcolFiltered['gender'], cv=5, n_jobs=-1)"
   ]
  },
  {
   "cell_type": "code",
   "execution_count": 220,
   "metadata": {},
   "outputs": [
    {
     "data": {
      "text/plain": [
       "0.3854676480077915"
      ]
     },
     "execution_count": 220,
     "metadata": {},
     "output_type": "execute_result"
    }
   ],
   "source": [
    "base_score.mean()"
   ]
  },
  {
   "cell_type": "markdown",
   "metadata": {},
   "source": [
    "The accuracy of baseline model is 38.54% "
   ]
  },
  {
   "cell_type": "markdown",
   "metadata": {},
   "source": [
    "#### Results for link_color feature"
   ]
  },
  {
   "cell_type": "code",
   "execution_count": 229,
   "metadata": {},
   "outputs": [],
   "source": [
    "results_lc =  pd.Series([eval_model(model) for model in models], \n",
    "                     index = ['logit', 'nb', 'rf', 'knn', 'svc'])"
   ]
  },
  {
   "cell_type": "code",
   "execution_count": 230,
   "metadata": {},
   "outputs": [
    {
     "name": "stdout",
     "output_type": "stream",
     "text": [
      "logit    0.410920\n",
      "nb       0.403257\n",
      "rf       0.411159\n",
      "knn      0.349856\n",
      "svc      0.385297\n",
      "dtype: float64\n"
     ]
    }
   ],
   "source": [
    "print(results_lc)"
   ]
  },
  {
   "cell_type": "markdown",
   "metadata": {},
   "source": [
    "It seems that Logistic Regression model is performing better when link_color feature is used to predict the gender."
   ]
  },
  {
   "cell_type": "markdown",
   "metadata": {},
   "source": [
    "#### Plotting the bar plot for accuracies obtained for link_color feature"
   ]
  },
  {
   "cell_type": "code",
   "execution_count": 310,
   "metadata": {},
   "outputs": [],
   "source": [
    "mse_model = []\n",
    "acc_model = []\n",
    "for i in range(5):\n",
    "    acc = results_lc[i]\n",
    "    acc_model.append(acc)\n",
    "    "
   ]
  },
  {
   "cell_type": "code",
   "execution_count": 234,
   "metadata": {},
   "outputs": [
    {
     "data": {
      "text/plain": [
       "<matplotlib.axes._subplots.AxesSubplot at 0xfd09ce03c8>"
      ]
     },
     "execution_count": 234,
     "metadata": {},
     "output_type": "execute_result"
    },
    {
     "data": {
      "image/png": "[encoded data removed]",
      "text/plain": [
       "<matplotlib.figure.Figure at 0xfd0eca5048>"
      ]
     },
     "metadata": {},
     "output_type": "display_data"
    }
   ],
   "source": [
    "acc_model = pd.Series(acc_model, index = ['logit', 'nb', 'rf', 'knn', 'svc'])\n",
    "acc_model.plot(kind = 'barh', title = 'Accuracy of the models on link_color feature')"
   ]
  },
  {
   "cell_type": "markdown",
   "metadata": {},
   "source": [
    "### B. Evaluating the relationship between sidebar_color and user's gender"
   ]
  },
  {
   "cell_type": "code",
   "execution_count": 235,
   "metadata": {},
   "outputs": [],
   "source": [
    "from sklearn import linear_model, metrics\n",
    "from sklearn import naive_bayes\n",
    "from sklearn.pipeline import make_pipeline\n",
    "\n",
    "df_col = data.loc[:, ['gender:confidence', 'gender', 'sidebar_color']]\n",
    "\n",
    "# Selecting rows where gender:confidence >= 1 and removing values like 7.60E+42\n",
    "dfcolFiltered = df_col[(df_col['gender:confidence'] >= 1) & ((df_col['sidebar_color']).str.contains('E\\+') != True)]\n",
    "\n",
    "# splitting data into X and y\n",
    "\n",
    "bow = bag_of_words_cal(dfcolFiltered['sidebar_color'])\n",
    "X = bow\n",
    "\n",
    "y = LabelEncoder().fit_transform(dfcolFiltered['gender'])\n",
    "\n",
    "# Listing the classifiers I want to test the data on\n"
   ]
  },
  {
   "cell_type": "code",
   "execution_count": 236,
   "metadata": {},
   "outputs": [
    {
     "data": {
      "text/plain": [
       "(13920, 473)"
      ]
     },
     "execution_count": 236,
     "metadata": {},
     "output_type": "execute_result"
    }
   ],
   "source": [
    "X.shape"
   ]
  },
  {
   "cell_type": "code",
   "execution_count": 237,
   "metadata": {},
   "outputs": [],
   "source": [
    "x_train, x_test, y_train, y_test = train_test_split(X, y,\n",
    "                                                    test_size=0.3,\n",
    "                                                    stratify = y,\n",
    "                                                    random_state = 123)"
   ]
  },
  {
   "cell_type": "code",
   "execution_count": 238,
   "metadata": {},
   "outputs": [
    {
     "name": "stdout",
     "output_type": "stream",
     "text": [
      "(9744, 473)\n",
      "(4176, 473)\n",
      "(9744,)\n",
      "(4176,)\n"
     ]
    }
   ],
   "source": [
    "print(x_train.shape)\n",
    "print(x_test.shape)\n",
    "print(y_train.shape)\n",
    "print(y_test.shape)"
   ]
  },
  {
   "cell_type": "markdown",
   "metadata": {},
   "source": [
    "#### Baseline Model - sidebar_color"
   ]
  },
  {
   "cell_type": "markdown",
   "metadata": {},
   "source": [
    "Calculating the baseline model by predicting the most frequently occuring gender class in the dataset. "
   ]
  },
  {
   "cell_type": "code",
   "execution_count": 239,
   "metadata": {},
   "outputs": [],
   "source": [
    "base_model = make_pipeline(CountVectorizer(analyzer=identity), DummyClassifier('most_frequent'))     \n",
    "base_score = cross_val_score(base_model,dfcolFiltered['sidebar_color'], \n",
    "                             dfcolFiltered['gender'], cv=5, n_jobs=-1)"
   ]
  },
  {
   "cell_type": "code",
   "execution_count": 241,
   "metadata": {},
   "outputs": [
    {
     "data": {
      "text/plain": [
       "0.38527301050056195"
      ]
     },
     "execution_count": 241,
     "metadata": {},
     "output_type": "execute_result"
    }
   ],
   "source": [
    "base_score.mean()"
   ]
  },
  {
   "cell_type": "markdown",
   "metadata": {},
   "source": [
    "The accuracy of baseline model is 38.52% "
   ]
  },
  {
   "cell_type": "markdown",
   "metadata": {},
   "source": [
    "#### Results for sidebar_color feature"
   ]
  },
  {
   "cell_type": "code",
   "execution_count": 242,
   "metadata": {},
   "outputs": [],
   "source": [
    "results_sc =  pd.Series([eval_model(model) for model in models], \n",
    "                     index = ['logit', 'nb', 'rf', 'knn', 'svc'])"
   ]
  },
  {
   "cell_type": "code",
   "execution_count": 243,
   "metadata": {},
   "outputs": [
    {
     "name": "stdout",
     "output_type": "stream",
     "text": [
      "logit    0.410920\n",
      "nb       0.403257\n",
      "rf       0.411398\n",
      "knn      0.349856\n",
      "svc      0.385297\n",
      "dtype: float64\n"
     ]
    }
   ],
   "source": [
    "print(results_sc)"
   ]
  },
  {
   "cell_type": "markdown",
   "metadata": {},
   "source": [
    "It seems that Random Forest model is performing better when sidebar_color feature is used to predict the gender."
   ]
  },
  {
   "cell_type": "markdown",
   "metadata": {},
   "source": [
    "#### Plotting the bar plot for accuracies obtained for sidebar_color feature"
   ]
  },
  {
   "cell_type": "code",
   "execution_count": 244,
   "metadata": {},
   "outputs": [],
   "source": [
    "mse_model = []\n",
    "acc_model = []\n",
    "for i in range(5):\n",
    "    acc = results[i]\n",
    "    acc_model.append(acc)"
   ]
  },
  {
   "cell_type": "code",
   "execution_count": 270,
   "metadata": {},
   "outputs": [
    {
     "data": {
      "text/plain": [
       "<matplotlib.axes._subplots.AxesSubplot at 0xfd0ee072b0>"
      ]
     },
     "execution_count": 270,
     "metadata": {},
     "output_type": "execute_result"
    },
    {
     "data": {
      "image/png": "[encoded data removed]",
      "text/plain": [
       "<matplotlib.figure.Figure at 0xfd01a3f898>"
      ]
     },
     "metadata": {},
     "output_type": "display_data"
    }
   ],
   "source": [
    "acc_model = pd.Series(acc_model, index = ['logit', 'nb', 'rf', 'knn', 'svc'])\n",
    "acc_model.plot(kind = 'barh', title = 'Accuracy of the models on sidebar_color feature')"
   ]
  },
  {
   "cell_type": "markdown",
   "metadata": {},
   "source": [
    "__Conclusion:__\n",
    "It can be observed that all the models yield approximately the same accuracy around 30-42% for both the link_color and sidebar_color features. 41% is not significant improvement in prediction of user's gender since baseline model is predicting with 38% accuracy.\n",
    "\n",
    "Hence, I would explore texts of the user to see if the texts are providing better results"
   ]
  },
  {
   "cell_type": "markdown",
   "metadata": {},
   "source": [
    "## How well does tweets and profile descriptions predict users gender?"
   ]
  },
  {
   "cell_type": "code",
   "execution_count": 355,
   "metadata": {},
   "outputs": [],
   "source": [
    "dfTextmod = dfText"
   ]
  },
  {
   "cell_type": "markdown",
   "metadata": {},
   "source": [
    "### A. Considering only the description text collected from user's profile"
   ]
  },
  {
   "cell_type": "code",
   "execution_count": 256,
   "metadata": {},
   "outputs": [],
   "source": [
    "bow = bag_of_words_cal(dfTextmod['desc_normalized'])\n",
    "X = bow\n",
    "\n",
    "y = LabelEncoder().fit_transform(dfTextmod['gender'])"
   ]
  },
  {
   "cell_type": "markdown",
   "metadata": {},
   "source": [
    "#### Baseline Model"
   ]
  },
  {
   "cell_type": "code",
   "execution_count": 257,
   "metadata": {},
   "outputs": [],
   "source": [
    "from cytoolz import identity\n",
    "from sklearn.dummy import DummyClassifier\n",
    "from sklearn.model_selection import cross_val_score\n",
    "base_model_t = make_pipeline(CountVectorizer(analyzer=identity), DummyClassifier('most_frequent'))     \n",
    "base_score_t = cross_val_score(base_model, dfTextmod['desc_normalized'], dfTextmod['gender'], cv=5, n_jobs=-1)"
   ]
  },
  {
   "cell_type": "code",
   "execution_count": 258,
   "metadata": {},
   "outputs": [
    {
     "data": {
      "text/plain": [
       "0.38888081981657974"
      ]
     },
     "execution_count": 258,
     "metadata": {},
     "output_type": "execute_result"
    }
   ],
   "source": [
    "base_score_t.mean()"
   ]
  },
  {
   "cell_type": "markdown",
   "metadata": {},
   "source": [
    "The accuracy of baseline model is 38.88% "
   ]
  },
  {
   "cell_type": "markdown",
   "metadata": {},
   "source": [
    "#### Results for description feature used for predicting user gender"
   ]
  },
  {
   "cell_type": "code",
   "execution_count": 259,
   "metadata": {},
   "outputs": [],
   "source": [
    "x_train, x_test, y_train, y_test = train_test_split(X, y,\n",
    "                                                    test_size=0.3,\n",
    "                                                    stratify = y,\n",
    "                                                    random_state = 123)"
   ]
  },
  {
   "cell_type": "code",
   "execution_count": 260,
   "metadata": {},
   "outputs": [],
   "source": [
    "results_dtext =  pd.Series([eval_model(model) for model in models], \n",
    "                     index = ['logit', 'nb', 'rf', 'knn', 'svc'])"
   ]
  },
  {
   "cell_type": "code",
   "execution_count": 261,
   "metadata": {},
   "outputs": [
    {
     "name": "stdout",
     "output_type": "stream",
     "text": [
      "logit    0.620464\n",
      "nb       0.626754\n",
      "rf       0.581761\n",
      "knn      0.415336\n",
      "svc      0.388970\n",
      "dtype: float64\n"
     ]
    }
   ],
   "source": [
    "print(results_dtext)"
   ]
  },
  {
   "cell_type": "markdown",
   "metadata": {},
   "source": [
    "Naive Bayes model is performing better with 62% accuracy"
   ]
  },
  {
   "cell_type": "markdown",
   "metadata": {},
   "source": [
    "#### Plotting the accuracy barplot "
   ]
  },
  {
   "cell_type": "code",
   "execution_count": 262,
   "metadata": {},
   "outputs": [],
   "source": [
    "mse_model_text = []\n",
    "acc_model_text = []\n",
    "for i in range(5):\n",
    "#     mse = results_text[i][0]\n",
    "#     mse_model_text.append(mse)\n",
    "    acc = results_text[i]#[1]\n",
    "    acc_model_text.append(acc)"
   ]
  },
  {
   "cell_type": "code",
   "execution_count": 272,
   "metadata": {},
   "outputs": [
    {
     "data": {
      "text/plain": [
       "<matplotlib.axes._subplots.AxesSubplot at 0xfd7f9e9400>"
      ]
     },
     "execution_count": 272,
     "metadata": {},
     "output_type": "execute_result"
    },
    {
     "data": {
      "image/png": "[encoded data removed]",
      "text/plain": [
       "<matplotlib.figure.Figure at 0xfd7e6eff60>"
      ]
     },
     "metadata": {},
     "output_type": "display_data"
    }
   ],
   "source": [
    "acc_model_text = pd.Series(acc_model_text, index = ['logit', 'nb', 'rf', 'knn', 'svc'])\n",
    "acc_model_text.plot(kind = 'barh', title = 'Accuracy of the models based on the profile descriptions of the users')"
   ]
  },
  {
   "cell_type": "markdown",
   "metadata": {},
   "source": [
    "### B. Considering only the Tweets text posted by the user"
   ]
  },
  {
   "cell_type": "code",
   "execution_count": 264,
   "metadata": {},
   "outputs": [],
   "source": [
    "bow = bag_of_words_cal(dfTextmod['text_normalized'])\n",
    "X = bow\n",
    "### B. Considering only the Tweets text posted by the user\n",
    "y = LabelEncoder().fit_transform(dfTextmod['gender'])"
   ]
  },
  {
   "cell_type": "markdown",
   "metadata": {},
   "source": [
    "#### Baseline Model"
   ]
  },
  {
   "cell_type": "code",
   "execution_count": 265,
   "metadata": {},
   "outputs": [],
   "source": [
    "from cytoolz import identity\n",
    "from sklearn.dummy import DummyClassifier\n",
    "from sklearn.model_selection import cross_val_score\n",
    "base_model_t = make_pipeline(CountVectorizer(analyzer=identity), DummyClassifier('most_frequent'))     \n",
    "base_score_t = cross_val_score(base_model, dfTextmod['text_normalized'], dfTextmod['gender'], cv=5, n_jobs=-1)"
   ]
  },
  {
   "cell_type": "code",
   "execution_count": 266,
   "metadata": {},
   "outputs": [
    {
     "data": {
      "text/plain": [
       "0.38888081981657974"
      ]
     },
     "execution_count": 266,
     "metadata": {},
     "output_type": "execute_result"
    }
   ],
   "source": [
    "base_score_t.mean()"
   ]
  },
  {
   "cell_type": "markdown",
   "metadata": {},
   "source": [
    "The baseline model is performing with 38.88% accuracy"
   ]
  },
  {
   "cell_type": "code",
   "execution_count": 267,
   "metadata": {},
   "outputs": [],
   "source": [
    "x_train, x_test, y_train, y_test = train_test_split(X, y,\n",
    "                                                    test_size=0.3,\n",
    "                                                    stratify = y,\n",
    "                                                    random_state = 123)"
   ]
  },
  {
   "cell_type": "markdown",
   "metadata": {},
   "source": [
    "#### Results for tweets feature used for predicting user gender"
   ]
  },
  {
   "cell_type": "code",
   "execution_count": 268,
   "metadata": {},
   "outputs": [],
   "source": [
    "results_text =  pd.Series([eval_model(model) for model in models], \n",
    "                     index = ['logit', 'nb', 'rf', 'knn', 'svc'])"
   ]
  },
  {
   "cell_type": "code",
   "execution_count": 273,
   "metadata": {},
   "outputs": [
    {
     "name": "stdout",
     "output_type": "stream",
     "text": [
      "logit    0.537494\n",
      "nb       0.546202\n",
      "rf       0.505322\n",
      "knn      0.448960\n",
      "svc      0.388970\n",
      "dtype: float64\n"
     ]
    }
   ],
   "source": [
    "print(results_text)"
   ]
  },
  {
   "cell_type": "markdown",
   "metadata": {},
   "source": [
    "Naive bayes is performing better with 54.62% accuracy. However, if only text from the tweet is considered we are not getting good result when compared to results obtained from profile description text"
   ]
  },
  {
   "cell_type": "markdown",
   "metadata": {},
   "source": [
    "#### Plotting bar plot for accuracy"
   ]
  },
  {
   "cell_type": "code",
   "execution_count": 274,
   "metadata": {},
   "outputs": [],
   "source": [
    "mse_model_text = []\n",
    "acc_model_text = []\n",
    "for i in range(5):\n",
    "#     mse = results_text[i][0]\n",
    "#     mse_model_text.append(mse)\n",
    "    acc = results_text[i]#[1]\n",
    "    acc_model_text.append(acc)"
   ]
  },
  {
   "cell_type": "code",
   "execution_count": 275,
   "metadata": {},
   "outputs": [
    {
     "data": {
      "text/plain": [
       "<matplotlib.axes._subplots.AxesSubplot at 0xfd7dec3d68>"
      ]
     },
     "execution_count": 275,
     "metadata": {},
     "output_type": "execute_result"
    },
    {
     "data": {
      "image/png": "[encoded data removed]",
      "text/plain": [
       "<matplotlib.figure.Figure at 0xfd0bd68860>"
      ]
     },
     "metadata": {},
     "output_type": "display_data"
    }
   ],
   "source": [
    "acc_model_text = pd.Series(acc_model_text, index = ['logit', 'nb', 'rf', 'knn', 'svc'])\n",
    "acc_model_text.plot(kind = 'barh', title = 'Accuracy of the models based on the tweets of the users')"
   ]
  },
  {
   "cell_type": "markdown",
   "metadata": {},
   "source": [
    "### C. Combining both description and tweets text together to evaluate the impact"
   ]
  },
  {
   "cell_type": "code",
   "execution_count": 248,
   "metadata": {},
   "outputs": [],
   "source": [
    "bow = bag_of_words_cal(dfTextmod['all_text'])\n",
    "X = bow\n",
    "\n",
    "y = LabelEncoder().fit_transform(dfTextmod['gender'])"
   ]
  },
  {
   "cell_type": "markdown",
   "metadata": {},
   "source": [
    "#### Baseline Model"
   ]
  },
  {
   "cell_type": "code",
   "execution_count": 249,
   "metadata": {},
   "outputs": [],
   "source": [
    "from cytoolz import identity\n",
    "from sklearn.dummy import DummyClassifier\n",
    "from sklearn.model_selection import cross_val_score\n",
    "base_model_t = make_pipeline(CountVectorizer(analyzer=identity), DummyClassifier('most_frequent'))     \n",
    "base_score_t = cross_val_score(base_model, dfTextmod['all_text'], dfTextmod['gender'], cv=5, n_jobs=-1)"
   ]
  },
  {
   "cell_type": "code",
   "execution_count": 250,
   "metadata": {},
   "outputs": [
    {
     "data": {
      "text/plain": [
       "0.38888081981657974"
      ]
     },
     "execution_count": 250,
     "metadata": {},
     "output_type": "execute_result"
    }
   ],
   "source": [
    "base_score_t.mean()"
   ]
  },
  {
   "cell_type": "markdown",
   "metadata": {},
   "source": [
    "The accuracy of baseline model after combining texts of both the profile description and tweets is 38.88% "
   ]
  },
  {
   "cell_type": "code",
   "execution_count": 251,
   "metadata": {},
   "outputs": [],
   "source": [
    "x_train, x_test, y_train, y_test = train_test_split(X, y,\n",
    "                                                    test_size=0.3,\n",
    "                                                    stratify = y,\n",
    "                                                    random_state = 123)"
   ]
  },
  {
   "cell_type": "markdown",
   "metadata": {},
   "source": [
    "#### Results for both the text (tweet and profile description)"
   ]
  },
  {
   "cell_type": "code",
   "execution_count": 252,
   "metadata": {},
   "outputs": [],
   "source": [
    "results_text =  pd.Series([eval_model(model) for model in models], \n",
    "                     index = ['logit', 'nb', 'rf', 'knn', 'svc'])"
   ]
  },
  {
   "cell_type": "code",
   "execution_count": 253,
   "metadata": {
    "scrolled": true
   },
   "outputs": [
    {
     "name": "stdout",
     "output_type": "stream",
     "text": [
      "logit    0.645622\n",
      "nb       0.664731\n",
      "rf       0.617804\n",
      "knn      0.422109\n",
      "svc      0.388970\n",
      "dtype: float64\n"
     ]
    }
   ],
   "source": [
    "print(results_text)"
   ]
  },
  {
   "cell_type": "markdown",
   "metadata": {},
   "source": [
    "Naive Bayes is performing best with 66% accuracy"
   ]
  },
  {
   "cell_type": "markdown",
   "metadata": {},
   "source": [
    "#### Plotting bar plot for accuracy"
   ]
  },
  {
   "cell_type": "code",
   "execution_count": 254,
   "metadata": {},
   "outputs": [],
   "source": [
    "mse_model_text = []\n",
    "acc_model_text = []\n",
    "for i in range(5):\n",
    "#     mse = results_text[i][0]\n",
    "#     mse_model_text.append(mse)\n",
    "    acc = results_text[i]#[1]\n",
    "    acc_model_text.append(acc)"
   ]
  },
  {
   "cell_type": "code",
   "execution_count": 269,
   "metadata": {},
   "outputs": [
    {
     "data": {
      "text/plain": [
       "<matplotlib.axes._subplots.AxesSubplot at 0xfd0e5267b8>"
      ]
     },
     "execution_count": 269,
     "metadata": {},
     "output_type": "execute_result"
    },
    {
     "data": {
      "image/png": "[encoded data removed]",
      "text/plain": [
       "<matplotlib.figure.Figure at 0xfd0ed09c88>"
      ]
     },
     "metadata": {},
     "output_type": "display_data"
    }
   ],
   "source": [
    "acc_model_text = pd.Series(acc_model_text, index = ['logit', 'nb', 'rf', 'knn', 'svc'])\n",
    "acc_model_text.plot(kind = 'barh', title = 'Accuracy of the models on both tweets and profile description')"
   ]
  },
  {
   "cell_type": "markdown",
   "metadata": {},
   "source": [
    "## Conclusion:\n",
    "1. Naive Bayes model is performing better in predicting gender of the users.\n",
    "2. Combining texts from tweet and profile description yeilds better accuracy when compared to considering text from each separately.\n",
    "3. Text feature is better in predicting users' gender when compared to color features"
   ]
  },
  {
   "cell_type": "markdown",
   "metadata": {},
   "source": [
    "## Recommendations:\n",
    "1. The dataset has hyperlinks which contains users profile image. This image can be used to used to predict the gender of the user and may yield in better accuracy.\n",
    "2. Taking more data regarding the tweets posted by the users may yeild in better results "
   ]
  }
 ],
 "metadata": {
  "kernelspec": {
   "display_name": "Python 3",
   "language": "python",
   "name": "python3"
  },
  "language_info": {
   "codemirror_mode": {
    "name": "ipython",
    "version": 3
   },
   "file_extension": ".py",
   "mimetype": "text/x-python",
   "name": "python",
   "nbconvert_exporter": "python",
   "pygments_lexer": "ipython3",
   "version": "3.6.4"
  }
 },
 "nbformat": 4,
 "nbformat_minor": 2
}
